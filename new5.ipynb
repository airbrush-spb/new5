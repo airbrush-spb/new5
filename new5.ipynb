{
 "cells": [
  {
   "cell_type": "code",
   "execution_count": 1,
   "metadata": {},
   "outputs": [
    {
     "name": "stdout",
     "output_type": "stream",
     "text": [
      "Введите номер документа 11-2\n",
      "Владелец документа: Геннадий Покемонов\n",
      "Введите номер документа 10006\n",
      "Документ хранится на полке: 2\n",
      "Введите номер полки 2\n",
      "Такая полка уже существует. Текущий перечень полок 1,2,3\n",
      "Введите номер полки 67\n",
      "Такой полки не существует. Текущий перечень полок:  1,2,3\n"
     ]
    },
    {
     "data": {
      "text/plain": [
       "'67'"
      ]
     },
     "execution_count": 1,
     "metadata": {},
     "output_type": "execute_result"
    }
   ],
   "source": [
    "documents = [\n",
    "    {'type': 'passport', 'number': '2207 876234', 'name': 'Василий Гупкин'},\n",
    "    {'type': 'invoice', 'number': '11-2', 'name': 'Геннадий Покемонов'},\n",
    "    {'type': 'insurance', 'number': '10006', 'name': 'Аристарх Павлов'}\n",
    "]\n",
    "\n",
    "directories = {\n",
    "'1': ['2207 876234', '11-2'],\n",
    "'2': ['10006'],\n",
    "'3': []\n",
    "}\n",
    "\n",
    "def number_doc(people):\n",
    "    user_input = input('Введите номер документа ')\n",
    "    for doc in people:\n",
    "        num = doc['number']\n",
    "        name = doc['name']\n",
    "        if user_input == num:\n",
    "            print ('Владелец документа:', name)\n",
    "            return user_input\n",
    "            break\n",
    "    print('Владелец документа не найден')\n",
    "    return user_input\n",
    "            \n",
    "number_doc(documents) \n",
    "\n",
    "def number_shelf(shelf):\n",
    "    user_input = input('Введите номер документа ')\n",
    "    for key,value in shelf.items():\n",
    "        for num in value:\n",
    "            if user_input in num:\n",
    "                print('Документ хранится на полке:', key)\n",
    "                return user_input\n",
    "                break\n",
    "    print('Документ не найден в базе')\n",
    "    return user_input\n",
    "                 \n",
    "number_shelf(directories)\n",
    "\n",
    "def all_info():\n",
    "    for el in documents:\n",
    "        type_doc = el['type']\n",
    "        num_doc = el['number']\n",
    "        name_doc = el['name']\n",
    "        for key, value in directories.items():\n",
    "            if num_doc in value:\n",
    "                k = key\n",
    "                break\n",
    "        print('№:',num_doc,',','тип:',type_doc,',','владелец:',name_doc,',','полка хранения:',k)\n",
    "        \n",
    "        \n",
    "def add_shelf():\n",
    "    user_input = input('Введите номер полки ')\n",
    "    for key, value in list(directories.items()):\n",
    "        if directories.get(user_input):\n",
    "            print('Такая полка уже существует. Текущий перечень полок', ','.join(directories.keys()))\n",
    "            return user_input\n",
    "            break\n",
    "        else:\n",
    "            directories[user_input] = []\n",
    "            print('Полка добавлена. Текущий перечень полок:', ','.join(directories.keys()))\n",
    "            return user_input   \n",
    "            \n",
    "add_shelf()\n",
    "\n",
    "def del_shelf():\n",
    "    user_input = input('Введите номер полки ')\n",
    "    for key, value in list(directories.items()):\n",
    "        if directories.get(user_input):\n",
    "            print('На полке есть документы, удалите их перед удалением полки. Текущий перечень полок:', ','.join(directories.keys()))\n",
    "            return user_input\n",
    "            break\n",
    "        elif user_input not in directories:\n",
    "            print('Такой полки не существует. Текущий перечень полок: ', ','.join(directories.keys()))\n",
    "            return user_input\n",
    "            break\n",
    "        else:\n",
    "            del(directories[user_input])\n",
    "            print('Полка удалена. Текущий перечень полок:', ','.join(directories.keys()))\n",
    "            return user_input\n",
    "            break\n",
    "            \n",
    "del_shelf()\n"
   ]
  },
  {
   "cell_type": "code",
   "execution_count": 3,
   "metadata": {},
   "outputs": [
    {
     "name": "stdout",
     "output_type": "stream",
     "text": [
      "Введите команду: p\n",
      "Введите номер документа 10006\n",
      "Владелец документа: Аристарх Павлов\n",
      "Введите команду: s\n",
      "Введите номер документа 11-2\n",
      "Документ хранится на полке: 1\n",
      "Введите команду: l\n",
      "№: 2207 876234 , тип: passport , владелец: Василий Гупкин , полка хранения: 1\n",
      "№: 11-2 , тип: invoice , владелец: Геннадий Покемонов , полка хранения: 1\n",
      "№: 10006 , тип: insurance , владелец: Аристарх Павлов , полка хранения: 2\n",
      "Введите команду: as\n",
      "Введите номер полки 87\n",
      "Полка добавлена. Текущий перечень полок: 1,2,3,87\n",
      "Введите команду: ds\n",
      "Введите номер полки 2\n",
      "На полке есть документы, удалите их перед удалением полки. Текущий перечень полок: 1,2,3,87\n",
      "Введите команду: ds\n",
      "Введите номер полки 3\n",
      "Полка удалена. Текущий перечень полок: 1,2,87\n",
      "Введите команду: q\n"
     ]
    }
   ],
   "source": [
    "def main():\n",
    "    while True:\n",
    "        user_input = input('Введите команду: ')\n",
    "        if user_input == 'p':\n",
    "            number_doc(documents)\n",
    "        elif user_input == 's':\n",
    "            number_shelf(directories)\n",
    "        elif user_input == 'l':\n",
    "            all_info()\n",
    "        elif user_input == 'as':\n",
    "            add_shelf()\n",
    "        elif user_input == 'ds':\n",
    "            del_shelf()\n",
    "        elif user_input == 'q':\n",
    "            break            \n",
    "main()\n"
   ]
  }
 ],
 "metadata": {
  "kernelspec": {
   "display_name": "Python 3",
   "language": "python",
   "name": "python3"
  },
  "language_info": {
   "codemirror_mode": {
    "name": "ipython",
    "version": 3
   },
   "file_extension": ".py",
   "mimetype": "text/x-python",
   "name": "python",
   "nbconvert_exporter": "python",
   "pygments_lexer": "ipython3",
   "version": "3.8.3"
  }
 },
 "nbformat": 4,
 "nbformat_minor": 4
}
